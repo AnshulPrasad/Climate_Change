{
 "cells": [
  {
   "cell_type": "markdown",
   "id": "a5cb17ee",
   "metadata": {},
   "source": [
    "# Forest Loss Analysis in India\n",
    "This notebook analyzes forest cover changes in India using Google Earth Engine data.\n",
    "\n",
    "## Features\n",
    "- Calculate forest coverage and loss statistics\n",
    "- Visualize temporal changes\n",
    "- Generate interactive maps\n",
    "- Compare regional differences\n",
    "\n",
    "## Setup\n",
    "Run this notebook with Python 3.8+ and the following packages:\n",
    "- earthengine-api\n",
    "- geemap\n",
    "- matplotlib\n",
    "- ipywidgets\n",
    "- numpy\n",
    "- pandas\n",
    "\n",
    "Author: Your Name\n",
    "Last Updated: September 2025"
   ]
  },
  {
   "cell_type": "markdown",
   "id": "49bbf54d",
   "metadata": {},
   "source": [
    "All Imports"
   ]
  },
  {
   "cell_type": "code",
   "execution_count": 1,
   "id": "41a94be1",
   "metadata": {},
   "outputs": [
    {
     "name": "stderr",
     "output_type": "stream",
     "text": [
      "2025-09-07 22:08:01,473 - INFO - Successfully authenticated with Earth Engine\n"
     ]
    }
   ],
   "source": [
    "# System imports\n",
    "import logging\n",
    "from pathlib import Path\n",
    "\n",
    "# Data analysis\n",
    "import ee\n",
    "import geemap\n",
    "import matplotlib.pyplot as plt\n",
    "import ipywidgets as widgets\n",
    "\n",
    "# Local imports\n",
    "from config.config import project_name, dataset_name\n",
    "\n",
    "# Clear any existing log handlers (important in Jupyter notebooks to avoid duplicate logs)\n",
    "for handler in logging.root.handlers[:]:\n",
    "    logging.root.removeHandler(handler)\n",
    "\n",
    "# Reconfigure logging to output both to notebook and to a file\n",
    "logging.basicConfig(\n",
    "    level=logging.INFO,  # Set logging level to INFO\n",
    "    format=\"%(asctime)s - %(levelname)s - %(message)s\",  # Log format\n",
    "    handlers=[\n",
    "        logging.StreamHandler(),  # Show logs in notebook output\n",
    "        logging.FileHandler(\"forest_analysis.log\", mode=\"w\"),  # Save logs to file\n",
    "    ],\n",
    ")\n",
    "\n",
    "try:\n",
    "    # Authenticate with Google Earth Engine (will prompt if not already authenticated)\n",
    "    ee.Authenticate()\n",
    "    # Initialize Earth Engine with the specified project\n",
    "    ee.Initialize(project=project_name)\n",
    "    logging.info(\"Successfully authenticated with Earth Engine\")\n",
    "except Exception as e:\n",
    "    logging.error(f\"Failed to authenticate: {str(e)}\")\n",
    "    raise"
   ]
  },
  {
   "cell_type": "markdown",
   "id": "6ecc34bb",
   "metadata": {},
   "source": [
    "Accessing Dataset"
   ]
  },
  {
   "cell_type": "code",
   "execution_count": 2,
   "id": "dec38fd4",
   "metadata": {},
   "outputs": [
    {
     "data": {
      "text/html": [
       "\n",
       "            <style>\n",
       "                .geemap-dark {\n",
       "                    --jp-widgets-color: white;\n",
       "                    --jp-widgets-label-color: white;\n",
       "                    --jp-ui-font-color1: white;\n",
       "                    --jp-layout-color2: #454545;\n",
       "                    background-color: #383838;\n",
       "                }\n",
       "\n",
       "                .geemap-dark .jupyter-button {\n",
       "                    --jp-layout-color3: #383838;\n",
       "                }\n",
       "\n",
       "                .geemap-colab {\n",
       "                    background-color: var(--colab-primary-surface-color, white);\n",
       "                }\n",
       "\n",
       "                .geemap-colab .jupyter-button {\n",
       "                    --jp-layout-color3: var(--colab-primary-surface-color, white);\n",
       "                }\n",
       "            </style>\n",
       "            "
      ],
      "text/plain": [
       "<IPython.core.display.HTML object>"
      ]
     },
     "metadata": {},
     "output_type": "display_data"
    },
    {
     "name": "stderr",
     "output_type": "stream",
     "text": [
      "2025-09-07 22:08:02,077 - INFO - ['treecover2000', 'loss', 'gain', 'lossyear', 'first_b30', 'first_b40', 'first_b50', 'first_b70', 'last_b30', 'last_b40', 'last_b50', 'last_b70', 'datamask']\n"
     ]
    }
   ],
   "source": [
    "# Load the forest change dataset as an Earth Engine Image using the dataset name from config\n",
    "dataset = ee.Image(dataset_name)\n",
    "\n",
    "# Log the available band names in the dataset for reference and debugging\n",
    "logging.info(f\"{dataset.bandNames().getInfo()}\")"
   ]
  },
  {
   "cell_type": "markdown",
   "id": "1d3ddee2",
   "metadata": {},
   "source": [
    "Region selection"
   ]
  },
  {
   "cell_type": "code",
   "execution_count": 3,
   "id": "4e56b38a",
   "metadata": {},
   "outputs": [
    {
     "data": {
      "text/html": [
       "\n",
       "            <style>\n",
       "                .geemap-dark {\n",
       "                    --jp-widgets-color: white;\n",
       "                    --jp-widgets-label-color: white;\n",
       "                    --jp-ui-font-color1: white;\n",
       "                    --jp-layout-color2: #454545;\n",
       "                    background-color: #383838;\n",
       "                }\n",
       "\n",
       "                .geemap-dark .jupyter-button {\n",
       "                    --jp-layout-color3: #383838;\n",
       "                }\n",
       "\n",
       "                .geemap-colab {\n",
       "                    background-color: var(--colab-primary-surface-color, white);\n",
       "                }\n",
       "\n",
       "                .geemap-colab .jupyter-button {\n",
       "                    --jp-layout-color3: var(--colab-primary-surface-color, white);\n",
       "                }\n",
       "            </style>\n",
       "            "
      ],
      "text/plain": [
       "<IPython.core.display.HTML object>"
      ]
     },
     "metadata": {},
     "output_type": "display_data"
    }
   ],
   "source": [
    "# Load the administrative boundaries for India states from the FAO GAUL dataset\n",
    "countries = ee.FeatureCollection(\"FAO/GAUL/2015/level1\")\n",
    "\n",
    "# Filter the collection to select only Madhya Pradesh by its administrative name\n",
    "mp = countries.filter(ee.Filter.eq(\"ADM1_NAME\", \"Madhya Pradesh\"))\n",
    "\n",
    "# Extract the geometry of Madhya Pradesh to use as the region of interest (ROI)\n",
    "roi = mp.geometry()"
   ]
  },
  {
   "cell_type": "markdown",
   "id": "80e59e6f",
   "metadata": {},
   "source": [
    "Select useful bands"
   ]
  },
  {
   "cell_type": "code",
   "execution_count": 4,
   "id": "ff7ccdaa",
   "metadata": {},
   "outputs": [
    {
     "data": {
      "text/html": [
       "\n",
       "            <style>\n",
       "                .geemap-dark {\n",
       "                    --jp-widgets-color: white;\n",
       "                    --jp-widgets-label-color: white;\n",
       "                    --jp-ui-font-color1: white;\n",
       "                    --jp-layout-color2: #454545;\n",
       "                    background-color: #383838;\n",
       "                }\n",
       "\n",
       "                .geemap-dark .jupyter-button {\n",
       "                    --jp-layout-color3: #383838;\n",
       "                }\n",
       "\n",
       "                .geemap-colab {\n",
       "                    background-color: var(--colab-primary-surface-color, white);\n",
       "                }\n",
       "\n",
       "                .geemap-colab .jupyter-button {\n",
       "                    --jp-layout-color3: var(--colab-primary-surface-color, white);\n",
       "                }\n",
       "            </style>\n",
       "            "
      ],
      "text/plain": [
       "<IPython.core.display.HTML object>"
      ]
     },
     "metadata": {},
     "output_type": "display_data"
    }
   ],
   "source": [
    "# Select the relevant bands from the forest change dataset\n",
    "\n",
    "# Tree cover percentage in the year 2000\n",
    "treecover2000 = dataset.select(\"treecover2000\")\n",
    "\n",
    "# Forest loss mask (1 = loss, 0 = no loss)\n",
    "loss = dataset.select(\"loss\")\n",
    "\n",
    "# Year of forest loss (values: 1-24, representing 2001-2024)\n",
    "loss_year = dataset.select(\"lossyear\")\n",
    "\n",
    "# Forest gain mask (1 = gain, 0 = no gain)\n",
    "gain = dataset.select(\"gain\")"
   ]
  },
  {
   "cell_type": "markdown",
   "id": "44a1e69e",
   "metadata": {},
   "source": [
    "Forest area info"
   ]
  },
  {
   "cell_type": "code",
   "execution_count": 5,
   "id": "5a4164ab",
   "metadata": {},
   "outputs": [
    {
     "data": {
      "text/html": [
       "\n",
       "            <style>\n",
       "                .geemap-dark {\n",
       "                    --jp-widgets-color: white;\n",
       "                    --jp-widgets-label-color: white;\n",
       "                    --jp-ui-font-color1: white;\n",
       "                    --jp-layout-color2: #454545;\n",
       "                    background-color: #383838;\n",
       "                }\n",
       "\n",
       "                .geemap-dark .jupyter-button {\n",
       "                    --jp-layout-color3: #383838;\n",
       "                }\n",
       "\n",
       "                .geemap-colab {\n",
       "                    background-color: var(--colab-primary-surface-color, white);\n",
       "                }\n",
       "\n",
       "                .geemap-colab .jupyter-button {\n",
       "                    --jp-layout-color3: var(--colab-primary-surface-color, white);\n",
       "                }\n",
       "            </style>\n",
       "            "
      ],
      "text/plain": [
       "<IPython.core.display.HTML object>"
      ]
     },
     "metadata": {},
     "output_type": "display_data"
    },
    {
     "name": "stderr",
     "output_type": "stream",
     "text": [
      "2025-09-07 22:08:03,064 - INFO - Forest area in 2000: 8936065791.026289 m²\n",
      "2025-09-07 22:08:04,024 - INFO - Total loss area (2001-2024): 174222282.0176777 m²\n",
      "2025-09-07 22:08:05,815 - INFO - Total gain area (2001-2024): 0 m²\n",
      "2025-09-07 22:08:06,839 - INFO - {'loss_area_m2': 7732488.7634191215, 'year': 2001}\n",
      "2025-09-07 22:08:06,840 - INFO - {'loss_area_m2': 5494800.970833331, 'year': 2002}\n",
      "2025-09-07 22:08:06,840 - INFO - {'loss_area_m2': 5730479.768995095, 'year': 2003}\n",
      "2025-09-07 22:08:06,841 - INFO - {'loss_area_m2': 7650368.632291665, 'year': 2004}\n",
      "2025-09-07 22:08:06,841 - INFO - {'loss_area_m2': 9719857.335324734, 'year': 2005}\n",
      "2025-09-07 22:08:06,842 - INFO - {'loss_area_m2': 11627351.68820465, 'year': 2006}\n",
      "2025-09-07 22:08:06,843 - INFO - {'loss_area_m2': 8330279.282720587, 'year': 2007}\n",
      "2025-09-07 22:08:06,843 - INFO - {'loss_area_m2': 8450531.399571076, 'year': 2008}\n",
      "2025-09-07 22:08:06,844 - INFO - {'loss_area_m2': 6873404.789093139, 'year': 2009}\n",
      "2025-09-07 22:08:06,844 - INFO - {'loss_area_m2': 2738218.53805147, 'year': 2010}\n",
      "2025-09-07 22:08:06,845 - INFO - {'loss_area_m2': 10717837.953584561, 'year': 2011}\n",
      "2025-09-07 22:08:06,845 - INFO - {'loss_area_m2': 8138115.495588238, 'year': 2012}\n",
      "2025-09-07 22:08:06,846 - INFO - {'loss_area_m2': 8396990.995618876, 'year': 2013}\n",
      "2025-09-07 22:08:06,846 - INFO - {'loss_area_m2': 8814281.712653188, 'year': 2014}\n",
      "2025-09-07 22:08:06,847 - INFO - {'loss_area_m2': 4693384.264828432, 'year': 2015}\n",
      "2025-09-07 22:08:06,848 - INFO - {'loss_area_m2': 7243954.756433821, 'year': 2016}\n",
      "2025-09-07 22:08:06,848 - INFO - {'loss_area_m2': 5114377.330024511, 'year': 2017}\n",
      "2025-09-07 22:08:06,848 - INFO - {'loss_area_m2': 3881995.8994791666, 'year': 2018}\n",
      "2025-09-07 22:08:06,849 - INFO - {'loss_area_m2': 1119805.0833333337, 'year': 2019}\n",
      "2025-09-07 22:08:06,850 - INFO - {'loss_area_m2': 3179061.914276961, 'year': 2020}\n",
      "2025-09-07 22:08:06,851 - INFO - {'loss_area_m2': 575067.4142156863, 'year': 2021}\n",
      "2025-09-07 22:08:06,852 - INFO - {'loss_area_m2': 1564107.5287990193, 'year': 2022}\n",
      "2025-09-07 22:08:06,853 - INFO - {'loss_area_m2': 13015516.713204652, 'year': 2023}\n",
      "2025-09-07 22:08:06,854 - INFO - {'loss_area_m2': 11461511.64200368, 'year': 2024}\n"
     ]
    }
   ],
   "source": [
    "# Create a binary mask for forest area in the year 2000 (tree cover > 30%)\n",
    "forest2000 = treecover2000.gt(30)\n",
    "\n",
    "# Calculate total forest area in 2000 (in square meters) within the ROI\n",
    "forest_area_2000 = forest2000.multiply(ee.Image.pixelArea()).reduceRegion(\n",
    "    reducer=ee.Reducer.sum(), geometry=roi, scale=300, maxPixels=1e13\n",
    ")\n",
    "logging.info(f\"Forest area in 2000: {forest_area_2000.getInfo()['treecover2000']} m²\")\n",
    "\n",
    "# Calculate total forest loss area (2001-2024) within the ROI\n",
    "loss_area = loss.multiply(ee.Image.pixelArea()).reduceRegion(\n",
    "    reducer=ee.Reducer.sum(), geometry=roi, scale=300, maxPixels=1e13\n",
    ")\n",
    "logging.info(f\"Total loss area (2001-2024): {loss_area.getInfo()['loss']} m²\")\n",
    "\n",
    "# Calculate total forest gain area (2001-2024) within the ROI\n",
    "gain_area = gain.multiply(ee.Image.pixelArea()).reduceRegion(\n",
    "    reducer=ee.Reducer.sum(), geometry=roi, scale=300, maxPixels=1e13\n",
    ")\n",
    "logging.info(f\"Total gain area (2001-2024): {gain_area.getInfo()['gain']} m²\")\n",
    "\n",
    "# Define a function to calculate yearly forest loss area for each year\n",
    "def calc_yearly_loss(year):\n",
    "    \"\"\"Calculate forest loss area for a given year.\"\"\"\n",
    "    year = ee.Number(year)\n",
    "    mask = loss_year.eq(year)  # Mask for pixels lost in this year\n",
    "    area = mask.multiply(ee.Image.pixelArea()).reduceRegion(\n",
    "        reducer=ee.Reducer.sum(), geometry=roi, scale=300, maxPixels=1e13\n",
    "    )\n",
    "    # Return as a Feature with year and loss area\n",
    "    return ee.Feature(\n",
    "        None, {\"year\": ee.Number(year).add(2000), \"loss_area_m2\": area.get(\"lossyear\")}\n",
    "    )\n",
    "\n",
    "\n",
    "# Generate a list of years (2001-2024)\n",
    "years = ee.List.sequence(1, 24)\n",
    "\n",
    "# Map the yearly loss function over all years to get a FeatureCollection\n",
    "yearly_loss = ee.FeatureCollection(years.map(calc_yearly_loss))\n",
    "\n",
    "# Convert the FeatureCollection to a Python dictionary for further analysis\n",
    "loss_dict = yearly_loss.getInfo()\n",
    "\n",
    "# Log yearly forest loss statistics for each year\n",
    "for f in loss_dict[\"features\"]:\n",
    "    logging.info(f\"{f['properties']}\")"
   ]
  },
  {
   "cell_type": "markdown",
   "id": "7a06af3d",
   "metadata": {},
   "source": [
    "Visualization"
   ]
  },
  {
   "cell_type": "code",
   "execution_count": 6,
   "id": "e9fdaab5",
   "metadata": {},
   "outputs": [
    {
     "data": {
      "text/html": [
       "\n",
       "            <style>\n",
       "                .geemap-dark {\n",
       "                    --jp-widgets-color: white;\n",
       "                    --jp-widgets-label-color: white;\n",
       "                    --jp-ui-font-color1: white;\n",
       "                    --jp-layout-color2: #454545;\n",
       "                    background-color: #383838;\n",
       "                }\n",
       "\n",
       "                .geemap-dark .jupyter-button {\n",
       "                    --jp-layout-color3: #383838;\n",
       "                }\n",
       "\n",
       "                .geemap-colab {\n",
       "                    background-color: var(--colab-primary-surface-color, white);\n",
       "                }\n",
       "\n",
       "                .geemap-colab .jupyter-button {\n",
       "                    --jp-layout-color3: var(--colab-primary-surface-color, white);\n",
       "                }\n",
       "            </style>\n",
       "            "
      ],
      "text/plain": [
       "<IPython.core.display.HTML object>"
      ]
     },
     "metadata": {},
     "output_type": "display_data"
    },
    {
     "data": {
      "image/png": "[encoded data removed]",
      "text/plain": [
       "<Figure size 1000x500 with 1 Axes>"
      ]
     },
     "metadata": {},
     "output_type": "display_data"
    }
   ],
   "source": [
    "# Prepare lists to store years and corresponding forest loss areas\n",
    "years_list, area_list = [], []\n",
    "\n",
    "# Extract year and loss area from each feature in the loss dictionary\n",
    "for f in loss_dict[\"features\"]:\n",
    "    years_list.append(f[\"properties\"][\"year\"])\n",
    "    area_list.append(f[\"properties\"][\"loss_area_m2\"])\n",
    "\n",
    "# Plot the yearly forest loss as a bar chart\n",
    "plt.figure(figsize=(10, 5))\n",
    "plt.bar(years_list, area_list, color=\"red\")\n",
    "plt.xlabel(\"year\")\n",
    "plt.ylabel(\"forest loss (hectares)\")\n",
    "plt.title(\"Yearly Forest Loss in ROI\")\n",
    "plt.show()"
   ]
  },
  {
   "cell_type": "code",
   "execution_count": 7,
   "id": "fe5fe7f0",
   "metadata": {},
   "outputs": [
    {
     "data": {
      "text/html": [
       "\n",
       "            <style>\n",
       "                .geemap-dark {\n",
       "                    --jp-widgets-color: white;\n",
       "                    --jp-widgets-label-color: white;\n",
       "                    --jp-ui-font-color1: white;\n",
       "                    --jp-layout-color2: #454545;\n",
       "                    background-color: #383838;\n",
       "                }\n",
       "\n",
       "                .geemap-dark .jupyter-button {\n",
       "                    --jp-layout-color3: #383838;\n",
       "                }\n",
       "\n",
       "                .geemap-colab {\n",
       "                    background-color: var(--colab-primary-surface-color, white);\n",
       "                }\n",
       "\n",
       "                .geemap-colab .jupyter-button {\n",
       "                    --jp-layout-color3: var(--colab-primary-surface-color, white);\n",
       "                }\n",
       "            </style>\n",
       "            "
      ],
      "text/plain": [
       "<IPython.core.display.HTML object>"
      ]
     },
     "metadata": {},
     "output_type": "display_data"
    },
    {
     "data": {
      "application/vnd.jupyter.widget-view+json": {
       "model_id": "9a39ac2820e748edb86759a584783592",
       "version_major": 2,
       "version_minor": 0
      },
      "text/plain": [
       "Map(center=[20, 0], controls=(WidgetControl(options=['position', 'transparent_bg'], position='topright', trans…"
      ]
     },
     "execution_count": 7,
     "metadata": {},
     "output_type": "execute_result"
    }
   ],
   "source": [
    "# Create an interactive map centered on India\n",
    "Map = geemap.Map(center=[20, 0], zoom=2)\n",
    "\n",
    "# Visualization parameters for different layers\n",
    "trecover_vis = {\"min\": 0, \"max\": 100, \"palette\": [\"white\", \"green\"]}  # Tree cover\n",
    "loss_vis = {\"min\": 0, \"max\": 1, \"palette\": [\"white\", \"red\"]}          # Forest loss\n",
    "loss_year_vis = {\"min\": 1, \"max\": 24, \"palette\": [\"yellow\", \"orange\", \"red\"]}  # Year of loss\n",
    "\n",
    "# Apply masks to show only relevant pixels for each layer\n",
    "forest2000_masked = treecover2000.updateMask(forest2000)  # Only show forested areas in 2000\n",
    "loss_masked = loss.updateMask(loss)                       # Only show pixels where loss=1\n",
    "gain_masked = gain.updateMask(gain)                       # Only show pixels where gain=1\n",
    "loss_year_masked = loss_year.updateMask(loss)             # Only show year where loss occurred\n",
    "\n",
    "# Add layers to the map for visualization\n",
    "Map.addLayer(forest2000_masked, trecover_vis, \"Tree cover 2000\")\n",
    "Map.addLayer(loss_masked, loss_vis, \"Forest Loss\")\n",
    "Map.addLayer(gain_masked, {\"palette\": [\"blue\"]}, \"Forest Gain\")\n",
    "Map.addLayer(loss_year_masked, loss_year_vis, \"Year of Loss (2001-2024)\")\n",
    "Map.addLayer(roi, {\"color\": \"black\"}, \"ROI\")  # Region of interest boundary\n",
    "\n",
    "# Display the map\n",
    "Map"
   ]
  },
  {
   "cell_type": "markdown",
   "id": "9aa230bd",
   "metadata": {},
   "source": [
    "India Forest Loss Time Series"
   ]
  },
  {
   "cell_type": "code",
   "execution_count": 8,
   "id": "8a115ecb",
   "metadata": {},
   "outputs": [
    {
     "data": {
      "text/html": [
       "\n",
       "            <style>\n",
       "                .geemap-dark {\n",
       "                    --jp-widgets-color: white;\n",
       "                    --jp-widgets-label-color: white;\n",
       "                    --jp-ui-font-color1: white;\n",
       "                    --jp-layout-color2: #454545;\n",
       "                    background-color: #383838;\n",
       "                }\n",
       "\n",
       "                .geemap-dark .jupyter-button {\n",
       "                    --jp-layout-color3: #383838;\n",
       "                }\n",
       "\n",
       "                .geemap-colab {\n",
       "                    background-color: var(--colab-primary-surface-color, white);\n",
       "                }\n",
       "\n",
       "                .geemap-colab .jupyter-button {\n",
       "                    --jp-layout-color3: var(--colab-primary-surface-color, white);\n",
       "                }\n",
       "            </style>\n",
       "            "
      ],
      "text/plain": [
       "<IPython.core.display.HTML object>"
      ]
     },
     "metadata": {},
     "output_type": "display_data"
    },
    {
     "data": {
      "image/png": "[encoded data removed]",
      "text/plain": [
       "<Figure size 1000x500 with 1 Axes>"
      ]
     },
     "metadata": {},
     "output_type": "display_data"
    }
   ],
   "source": [
    "# --- India Forest Loss Time Series ---\n",
    "\n",
    "# Load country boundaries from USDOS dataset\n",
    "countries = ee.FeatureCollection(\"USDOS/LSIB_SIMPLE/2017\")\n",
    "\n",
    "# Filter for India and get its geometry\n",
    "india = countries.filter(ee.Filter.eq(\"country_na\", \"India\")).first()\n",
    "roi = india.geometry()\n",
    "\n",
    "# Function to calculate forest loss area for a given year\n",
    "def year_loss(year):\n",
    "    year = ee.Number(year)\n",
    "    loss_mask = loss_year.eq(year)  # Mask for pixels lost in this year\n",
    "\n",
    "    # Calculate area of loss for the year within India's geometry\n",
    "    area = loss_mask.multiply(ee.Image.pixelArea()).reduceRegion(\n",
    "        reducer=ee.Reducer.sum(),\n",
    "        geometry=roi,\n",
    "        scale=300,\n",
    "        maxPixels=1e13,\n",
    "        bestEffort=True,\n",
    "    )\n",
    "\n",
    "    # Return as a Feature with year and loss area\n",
    "    return ee.Feature(\n",
    "        None, {\"year\": year.add(2000), \"loss_area_m2\": area.get(\"lossyear\")}\n",
    "    )\n",
    "\n",
    "# List of years (2001-2025, as loss_year starts from 1)\n",
    "years = ee.List.sequence(1, 25)\n",
    "\n",
    "# Map the year_loss function over all years to get a FeatureCollection\n",
    "fc = ee.FeatureCollection(years.map(year_loss))\n",
    "\n",
    "# Get the results as a Python dictionary\n",
    "loss_stats = fc.getInfo()\n",
    "\n",
    "# Prepare lists for plotting\n",
    "years_list, area_list = [], []\n",
    "for f in loss_stats[\"features\"]:\n",
    "    years_list.append(f[\"properties\"][\"year\"])\n",
    "    area_list.append(f[\"properties\"][\"loss_area_m2\"])\n",
    "\n",
    "# Plot the yearly forest loss for India\n",
    "plt.figure(figsize=(10, 5))\n",
    "plt.bar(years_list, area_list, color=\"red\")\n",
    "plt.xlabel(\"year\")\n",
    "plt.ylabel(\"Forest loss (sq.m)\")\n",
    "plt.title(\"India Forest Loss (2000-2024)\")\n",
    "plt.show()"
   ]
  },
  {
   "cell_type": "markdown",
   "id": "793f0206",
   "metadata": {},
   "source": [
    "Year-Wise Forest Loss Map"
   ]
  },
  {
   "cell_type": "code",
   "execution_count": 9,
   "id": "d53dd449",
   "metadata": {},
   "outputs": [
    {
     "data": {
      "text/html": [
       "\n",
       "            <style>\n",
       "                .geemap-dark {\n",
       "                    --jp-widgets-color: white;\n",
       "                    --jp-widgets-label-color: white;\n",
       "                    --jp-ui-font-color1: white;\n",
       "                    --jp-layout-color2: #454545;\n",
       "                    background-color: #383838;\n",
       "                }\n",
       "\n",
       "                .geemap-dark .jupyter-button {\n",
       "                    --jp-layout-color3: #383838;\n",
       "                }\n",
       "\n",
       "                .geemap-colab {\n",
       "                    background-color: var(--colab-primary-surface-color, white);\n",
       "                }\n",
       "\n",
       "                .geemap-colab .jupyter-button {\n",
       "                    --jp-layout-color3: var(--colab-primary-surface-color, white);\n",
       "                }\n",
       "            </style>\n",
       "            "
      ],
      "text/plain": [
       "<IPython.core.display.HTML object>"
      ]
     },
     "metadata": {},
     "output_type": "display_data"
    },
    {
     "data": {
      "application/vnd.jupyter.widget-view+json": {
       "model_id": "c188f172eaab4d5db42ce8b50a2cba07",
       "version_major": 2,
       "version_minor": 0
      },
      "text/plain": [
       "Map(center=[20, 0], controls=(WidgetControl(options=['position', 'transparent_bg'], position='topright', trans…"
      ]
     },
     "execution_count": 9,
     "metadata": {},
     "output_type": "execute_result"
    }
   ],
   "source": [
    "# Create an interactive map centered on India\n",
    "Map = geemap.Map(center=[20, 0], zoom=2)\n",
    "\n",
    "# Visualization parameters for different layers\n",
    "trecover_vis = {\"min\": 0, \"max\": 100, \"palette\": [\"white\", \"green\"]}  # Tree cover\n",
    "loss_vis = {\"min\": 0, \"max\": 1, \"palette\": [\"white\", \"red\"]}          # Forest loss\n",
    "loss_year_vis = {\"min\": 1, \"max\": 24, \"palette\": [\"yellow\", \"orange\", \"red\"]}  # Year of loss\n",
    "\n",
    "# Apply masks to show only relevant pixels for each layer\n",
    "forest2000_masked = treecover2000.updateMask(forest2000)  # Only show forested areas in 2000\n",
    "loss_masked = loss.updateMask(loss)                       # Only show pixels where loss=1\n",
    "gain_masked = gain.updateMask(gain)                       # Only show pixels where gain=1\n",
    "loss_year_masked = loss_year.updateMask(loss)             # Only show year where loss occurred\n",
    "\n",
    "# Add layers to the map for visualization\n",
    "Map.addLayer(forest2000_masked, trecover_vis, \"Tree cover 2000\")\n",
    "Map.addLayer(loss_masked, loss_vis, \"Forest Loss\")\n",
    "Map.addLayer(gain_masked, {\"palette\": [\"blue\"]}, \"Forest Gain\")\n",
    "Map.addLayer(loss_year_masked, loss_year_vis, \"Year of Loss (2001-2024)\")\n",
    "Map.addLayer(roi, {\"color\": \"black\"}, \"ROI\")  # Region of interest boundary\n",
    "\n",
    "# Display the map\n",
    "Map"
   ]
  }
 ],
 "metadata": {
  "kernelspec": {
   "display_name": "Climate_Change",
   "language": "python",
   "name": "python3"
  },
  "language_info": {
   "codemirror_mode": {
    "name": "ipython",
    "version": 3
   },
   "file_extension": ".py",
   "mimetype": "text/x-python",
   "name": "python",
   "nbconvert_exporter": "python",
   "pygments_lexer": "ipython3",
   "version": "3.10.18"
  }
 },
 "nbformat": 4,
 "nbformat_minor": 5
}
